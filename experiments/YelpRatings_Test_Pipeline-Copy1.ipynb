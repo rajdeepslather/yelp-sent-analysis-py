{
 "cells": [
  {
   "cell_type": "code",
   "execution_count": 1,
   "metadata": {
    "colab": {
     "base_uri": "https://localhost:8080/"
    },
    "executionInfo": {
     "elapsed": 14302,
     "status": "ok",
     "timestamp": 1607372456602,
     "user": {
      "displayName": "stuti polra",
      "photoUrl": "https://lh4.googleusercontent.com/-NGGzbrcewq4/AAAAAAAAAAI/AAAAAAAAAQQ/89dHzfUdYEQ/s64/photo.jpg",
      "userId": "12712467852153144632"
     },
     "user_tz": 300
    },
    "id": "SlavtS_z1Nji",
    "outputId": "561b3597-b1cd-4613-fe74-b842569a64de"
   },
   "outputs": [],
   "source": [
    "# import os\n",
    "\n",
    "# # Install java\n",
    "# ! apt-get update -qq\n",
    "# ! apt-get install -y openjdk-8-jdk-headless -qq > /dev/null\n",
    "\n",
    "# os.environ[\"JAVA_HOME\"] = \"/usr/lib/jvm/java-8-openjdk-amd64\"\n",
    "# os.environ[\"PATH\"] = os.environ[\"JAVA_HOME\"] + \"/bin:\" + os.environ[\"PATH\"]\n",
    "# ! java -version\n",
    "\n",
    "# # Install pyspark\n",
    "# ! pip install --ignore-installed -q pyspark==2.4.4\n",
    "# ! pip install --ignore-installed -q spark-nlp==2.6.3-rc1"
   ]
  },
  {
   "cell_type": "code",
   "execution_count": 2,
   "metadata": {
    "colab": {
     "base_uri": "https://localhost:8080/"
    },
    "executionInfo": {
     "elapsed": 18656,
     "status": "ok",
     "timestamp": 1607372489578,
     "user": {
      "displayName": "stuti polra",
      "photoUrl": "https://lh4.googleusercontent.com/-NGGzbrcewq4/AAAAAAAAAAI/AAAAAAAAAQQ/89dHzfUdYEQ/s64/photo.jpg",
      "userId": "12712467852153144632"
     },
     "user_tz": 300
    },
    "id": "0M_HL-s12jSo",
    "outputId": "d2bfd28d-9ca8-4aaa-81f2-57797b94a7b9"
   },
   "outputs": [
    {
     "name": "stdout",
     "output_type": "stream",
     "text": [
      "Spark NLP version 2.6.4\n",
      "Apache Spark version: 2.4.4\n"
     ]
    }
   ],
   "source": [
    "import sparknlp\n",
    "\n",
    "spark = sparknlp.start()\n",
    "\n",
    "# params =>> gpu=False, spark23=False (start with spark 2.3)\n",
    "\n",
    "print(\"Spark NLP version\", sparknlp.version())\n",
    "\n",
    "print(\"Apache Spark version:\", spark.version)"
   ]
  },
  {
   "cell_type": "code",
   "execution_count": 3,
   "metadata": {
    "colab": {
     "base_uri": "https://localhost:8080/"
    },
    "executionInfo": {
     "elapsed": 492,
     "status": "ok",
     "timestamp": 1607373272112,
     "user": {
      "displayName": "stuti polra",
      "photoUrl": "https://lh4.googleusercontent.com/-NGGzbrcewq4/AAAAAAAAAAI/AAAAAAAAAQQ/89dHzfUdYEQ/s64/photo.jpg",
      "userId": "12712467852153144632"
     },
     "user_tz": 300
    },
    "id": "gNaZxuzn5RF3",
    "outputId": "568a4c81-bf66-4204-a924-c42955e80e48"
   },
   "outputs": [],
   "source": [
    "# from google.colab import drive\n",
    "# drive.mount('/content/drive')\n",
    "# path = '/content/drive/My Drive/CS657/project/data/'"
   ]
  },
  {
   "cell_type": "code",
   "execution_count": 4,
   "metadata": {
    "executionInfo": {
     "elapsed": 771,
     "status": "ok",
     "timestamp": 1607373155475,
     "user": {
      "displayName": "stuti polra",
      "photoUrl": "https://lh4.googleusercontent.com/-NGGzbrcewq4/AAAAAAAAAAI/AAAAAAAAAQQ/89dHzfUdYEQ/s64/photo.jpg",
      "userId": "12712467852153144632"
     },
     "user_tz": 300
    },
    "id": "12fOOa3859Ja"
   },
   "outputs": [],
   "source": [
    "import datetime\n",
    "import sparknlp\n",
    "from sparknlp.base import DocumentAssembler, Pipeline\n",
    "from sparknlp.annotator import UniversalSentenceEncoder, SentimentDLModel\n",
    "from sparknlp.pretrained import PretrainedPipeline \n",
    "from pyspark.sql.types import StringType, DoubleType\n",
    "from pyspark.mllib.evaluation import MulticlassMetrics\n",
    "import  pyspark.sql.functions as F\n",
    "from pyspark.ml.feature import VectorAssembler\n",
    "from pyspark.ml.classification import MultilayerPerceptronClassifier\n",
    "from pyspark.ml.evaluation import RegressionEvaluator\n",
    "from pyspark.ml.evaluation import MulticlassClassificationEvaluator"
   ]
  },
  {
   "cell_type": "code",
   "execution_count": 5,
   "metadata": {
    "id": "vQF4Y_sO6LK4"
   },
   "outputs": [
    {
     "name": "stdout",
     "output_type": "stream",
     "text": [
      "tfhub_use download started this may take some time.\n",
      "Approximate size to download 923.7 MB\n",
      "[OK!]\n",
      "sentimentdl_use_imdb download started this may take some time.\n",
      "Approximate size to download 12.1 MB\n",
      "[OK!]\n"
     ]
    }
   ],
   "source": [
    "#custom pipeline with pre-trained models\n",
    "\n",
    "document = DocumentAssembler()\\\n",
    "    .setInputCol(\"text\")\\\n",
    "    .setOutputCol(\"document\")\n",
    "\n",
    "use = UniversalSentenceEncoder.pretrained(name=\"tfhub_use\", lang=\"en\")\\\n",
    " .setInputCols([\"document\"])\\\n",
    " .setOutputCol(\"sentence_embeddings\")\n",
    "\n",
    "# other pre-trained sentiment classification model: sentimentdl_use_twitter\n",
    "# the classes/labels/categories are in category column\n",
    "sentimentdl = SentimentDLModel.pretrained(name=\"sentimentdl_use_imdb\", lang=\"en\")\\\n",
    "  .setInputCols([\"sentence_embeddings\"])\\\n",
    "  .setOutputCol(\"sentiment\")\n",
    "pipeline = Pipeline(\n",
    "    stages = [\n",
    "        document,\n",
    "        use,\n",
    "        sentimentdl\n",
    "    ])"
   ]
  },
  {
   "cell_type": "code",
   "execution_count": 6,
   "metadata": {},
   "outputs": [
    {
     "data": {
      "text/plain": [
       "PipelineModel_d99ecbaac171"
      ]
     },
     "execution_count": 6,
     "metadata": {},
     "output_type": "execute_result"
    }
   ],
   "source": [
    "pipeline_model = pipeline.fit([]) # already trained\n",
    "pipeline_model"
   ]
  },
  {
   "cell_type": "code",
   "execution_count": 7,
   "metadata": {
    "colab": {
     "base_uri": "https://localhost:8080/"
    },
    "executionInfo": {
     "elapsed": 120005,
     "status": "ok",
     "timestamp": 1607382206576,
     "user": {
      "displayName": "stuti polra",
      "photoUrl": "https://lh4.googleusercontent.com/-NGGzbrcewq4/AAAAAAAAAAI/AAAAAAAAAQQ/89dHzfUdYEQ/s64/photo.jpg",
      "userId": "12712467852153144632"
     },
     "user_tz": 300
    },
    "id": "e4Yle4Or3Y9r",
    "outputId": "87c67d86-7ba5-4dc8-e6a8-ad20b784da15"
   },
   "outputs": [],
   "source": [
    "# pipeline = PretrainedPipeline('analyze_sentimentdl_use_imdb', 'en')\n",
    "# pipeline = PretrainedPipeline('analyze_sentimentdl_use_twitter', 'en')"
   ]
  },
  {
   "cell_type": "code",
   "execution_count": 8,
   "metadata": {},
   "outputs": [
    {
     "data": {
      "text/plain": [
       "DataFrame[business_id: string, cool: bigint, funny: bigint, review_id: string, stars: double, text: string, useful: bigint, user_id: string]"
      ]
     },
     "execution_count": 8,
     "metadata": {},
     "output_type": "execute_result"
    }
   ],
   "source": [
    "# yelp_review = spark.read.json(path+'/review.json')\n",
    "yelp_review = spark.read.json('data/yelp_academic_dataset_review.json')\n",
    "yelp_review = yelp_review.drop('date')\n",
    "\n",
    "# reducing the dataset for now\n",
    "yelp_review, _ = yelp_review.randomSplit(weights=[0.001, 0.999], seed=1) \n",
    "_.unpersist()"
   ]
  },
  {
   "cell_type": "code",
   "execution_count": 9,
   "metadata": {},
   "outputs": [
    {
     "data": {
      "text/plain": [
       "DataFrame[business_id: string, cool: bigint, funny: bigint, review_id: string, stars: double, text: string, useful: bigint, user_id: string]"
      ]
     },
     "execution_count": 9,
     "metadata": {},
     "output_type": "execute_result"
    }
   ],
   "source": [
    "# need to get sentiment for all data (train and test)\n",
    "# yelp_review_annotated = pipeline.annotate(yelp_review, 'text')\n",
    "yelp_review_annotated = pipeline_model.transform(yelp_review)\n",
    "yelp_review.unpersist()"
   ]
  },
  {
   "cell_type": "code",
   "execution_count": 10,
   "metadata": {
    "executionInfo": {
     "elapsed": 874,
     "status": "ok",
     "timestamp": 1607382207460,
     "user": {
      "displayName": "stuti polra",
      "photoUrl": "https://lh4.googleusercontent.com/-NGGzbrcewq4/AAAAAAAAAAI/AAAAAAAAAQQ/89dHzfUdYEQ/s64/photo.jpg",
      "userId": "12712467852153144632"
     },
     "user_tz": 300
    },
    "id": "8l1rNtBr1SRY"
   },
   "outputs": [],
   "source": [
    "yelp_review_annotated = yelp_review_annotated.withColumn('stars_thresh', yelp_review_annotated.stars - 2.5)\n",
    "yelp_review_annotated = yelp_review_annotated.withColumn('stars_thresh_abs',F.abs(yelp_review_annotated.stars_thresh))\n",
    "yelp_review_annotated = yelp_review_annotated.withColumn('stars_sent', yelp_review_annotated.stars_thresh / yelp_review_annotated.stars_thresh_abs)\\\n",
    "                                 .drop('stars_thresh_abs', 'stars_thresh')"
   ]
  },
  {
   "cell_type": "code",
   "execution_count": 11,
   "metadata": {
    "executionInfo": {
     "elapsed": 864,
     "status": "ok",
     "timestamp": 1607382207461,
     "user": {
      "displayName": "stuti polra",
      "photoUrl": "https://lh4.googleusercontent.com/-NGGzbrcewq4/AAAAAAAAAAI/AAAAAAAAAQQ/89dHzfUdYEQ/s64/photo.jpg",
      "userId": "12712467852153144632"
     },
     "user_tz": 300
    },
    "id": "tdwvwFg34Tgy"
   },
   "outputs": [],
   "source": [
    "# This is for discrete results\n",
    "def sent(r):\n",
    "    return r[0][3]\n",
    "\n",
    "# def sent(r):\n",
    "#     meta = r[0][4]\n",
    "#     return float(meta['positive']) - float(meta['negative'])\n",
    "\n",
    "\n",
    "def sent_to_num(r):\n",
    "    if r == 'positive':\n",
    "        return 1.0\n",
    "    else:\n",
    "        return -1.0\n",
    "\n",
    "sent_udf = F.udf(sent)\n",
    "sent_to_num_udf = F.udf(sent_to_num)"
   ]
  },
  {
   "cell_type": "code",
   "execution_count": 12,
   "metadata": {
    "executionInfo": {
     "elapsed": 856,
     "status": "ok",
     "timestamp": 1607382207461,
     "user": {
      "displayName": "stuti polra",
      "photoUrl": "https://lh4.googleusercontent.com/-NGGzbrcewq4/AAAAAAAAAAI/AAAAAAAAAQQ/89dHzfUdYEQ/s64/photo.jpg",
      "userId": "12712467852153144632"
     },
     "user_tz": 300
    },
    "id": "CR-sXBOP4UIA"
   },
   "outputs": [
    {
     "data": {
      "text/plain": [
       "DataFrame[business_id: string, cool: bigint, funny: bigint, review_id: string, stars: double, text: string, useful: bigint, user_id: string, document: array<struct<annotatorType:string,begin:int,end:int,result:string,metadata:map<string,string>,embeddings:array<float>>>, sentence_embeddings: array<struct<annotatorType:string,begin:int,end:int,result:string,metadata:map<string,string>,embeddings:array<float>>>, sentiment: array<struct<annotatorType:string,begin:int,end:int,result:string,metadata:map<string,string>,embeddings:array<float>>>, stars_sent: double, sent: string, sent_to_num: double]"
      ]
     },
     "execution_count": 12,
     "metadata": {},
     "output_type": "execute_result"
    }
   ],
   "source": [
    "# This is for discrete results\n",
    "yelp_review_annotated = yelp_review_annotated.withColumn('sent', sent_udf(yelp_review_annotated.sentiment))\n",
    "yelp_review_annotated = yelp_review_annotated.withColumn('sent_to_num', sent_to_num_udf(yelp_review_annotated.sent))\n",
    "yelp_review_annotated = yelp_review_annotated.withColumn('sent_to_num', yelp_review_annotated.sent_to_num.cast(DoubleType()))"
   ]
  },
  {
   "cell_type": "code",
   "execution_count": 13,
   "metadata": {
    "id": "fHu0LXFG4b7Q"
   },
   "outputs": [
    {
     "name": "stdout",
     "output_type": "stream",
     "text": [
      "accuracy =  0.8542141230068337\n"
     ]
    }
   ],
   "source": [
    "#use the metric evaluator for dataframes\n",
    "\n",
    "predictionAndLabels = yelp_review_annotated.select('sent_to_num', 'stars_sent')\n",
    "evaluator = MulticlassClassificationEvaluator(metricName=\"accuracy\", \n",
    "                                       predictionCol=\"sent_to_num\",\n",
    "                                       labelCol=\"stars_sent\")\n",
    "print(\"accuracy = \",evaluator.evaluate(predictionAndLabels))"
   ]
  },
  {
   "cell_type": "code",
   "execution_count": 14,
   "metadata": {},
   "outputs": [],
   "source": [
    "# IMDB\n",
    "# accuracy = 0.858851069845995\n",
    "\n",
    "# Twitter\n",
    "# accuracy =  0.7484181219944318"
   ]
  },
  {
   "cell_type": "code",
   "execution_count": null,
   "metadata": {},
   "outputs": [],
   "source": []
  }
 ],
 "metadata": {
  "colab": {
   "authorship_tag": "ABX9TyP6bm13S4aJozdXBMStgeJJ",
   "collapsed_sections": [],
   "name": "YelpRatings.ipynb",
   "provenance": []
  },
  "kernelspec": {
   "display_name": "Python 3",
   "language": "python",
   "name": "python3"
  },
  "language_info": {
   "codemirror_mode": {
    "name": "ipython",
    "version": 3
   },
   "file_extension": ".py",
   "mimetype": "text/x-python",
   "name": "python",
   "nbconvert_exporter": "python",
   "pygments_lexer": "ipython3",
   "version": "3.7.4"
  }
 },
 "nbformat": 4,
 "nbformat_minor": 1
}
