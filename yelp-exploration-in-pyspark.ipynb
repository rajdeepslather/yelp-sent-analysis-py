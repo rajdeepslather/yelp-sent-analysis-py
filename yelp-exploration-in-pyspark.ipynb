{
 "cells": [
  {
   "cell_type": "code",
   "execution_count": 3,
   "metadata": {
    "_cell_guid": "b1076dfc-b9ad-4769-8c92-a6c4dae69d19",
    "_uuid": "8f2839f25d086af736a60e9eeb907d3b93b6e0e5",
    "pycharm": {
     "is_executing": true
    }
   },
   "outputs": [],
   "source": [
    "# This Python 3 environment comes with many helpful analytics libraries installed\n",
    "# It is defined by the kaggle/python docker image: https://github.com/kaggle/docker-python\n",
    "# For example, here's several helpful packages to load in \n",
    "\n",
    "# Input data files are available in the \"../input/\" directory.\n",
    "# For example, running this (by clicking run or pressing Shift+Enter) will list the files in the input directory\n",
    "\n",
    "# import os\n",
    "# print(os.listdir(\"../input\"))\n",
    "# import pyspark to work on spark\n",
    "from pyspark.sql import SparkSession\n",
    "spark = SparkSession.builder.appName('yelp_data_exploration').getOrCreate()\n",
    "# Any results you write to the current directory are saved as output."
   ]
  },
  {
   "cell_type": "code",
   "execution_count": 5,
   "metadata": {
    "_cell_guid": "79c7e3d0-c299-4dcb-8224-4455121ee9b0",
    "_uuid": "d629ff2d2480ee46fbb7e2d37f6b5fab8052498a",
    "pycharm": {
     "is_executing": true
    }
   },
   "outputs": [],
   "source": [
    "#import yelp review data into dataframe\n",
    "yelp_review = spark.read.json('data/yelp_academic_dataset_review.json')\n",
    "# import yelp business data into dataframe\n",
    "yelp_business = spark.read.json('data/yelp_academic_dataset_business.json')\n",
    "# import yelp user data into dataframe\n",
    "yelp_user = spark.read.json('data/yelp_academic_dataset_user.json')\n",
    "# import yelp tip data into dataframe\n",
    "#yelp_tip = spark.read.json('../input/yelp_academic_dataset_tip.json')\n",
    "# import yelp checkin data into dataframe\n",
    "#yelp_checkin = spark.read.json('../input/yelp_academic_dataset_checkin.json')"
   ]
  },
  {
   "cell_type": "markdown",
   "metadata": {
    "_uuid": "b23acde6e101442e962b24c2d21f03bda41ec9cc"
   },
   "source": [
    "**Top 10 Reviewed Business**"
   ]
  },
  {
   "cell_type": "code",
   "execution_count": 6,
   "metadata": {
    "_uuid": "1e493ef296eb7de32f507d18967bc682f198f222",
    "pycharm": {
     "is_executing": true
    }
   },
   "outputs": [],
   "source": [
    "# now see top most reviewed business.\n",
    "# so take review data which has rating(stars) more than 3\n",
    "review_star_three = yelp_review.filter('stars >3')\n",
    "grouped_review = review_star_three.groupby('business_id').count()\n",
    "review_sort = grouped_review.sort('count',ascending=False)"
   ]
  },
  {
   "cell_type": "code",
   "execution_count": 7,
   "metadata": {
    "_kg_hide-input": true,
    "_kg_hide-output": true,
    "_uuid": "b6dd62dbf0147407ff7ef1d0411474291965da3b",
    "pycharm": {
     "is_executing": true
    }
   },
   "outputs": [
    {
     "name": "stdout",
     "output_type": "stream",
     "text": [
      "+--------------------+--------------------+--------------------+-----+\n",
      "|         business_id|                name|          categories|count|\n",
      "+--------------------+--------------------+--------------------+-----+\n",
      "|VHsNB3pdGVcRgs6C3...|     Dublin O'Neil's|  Restaurants, Irish|   75|\n",
      "|r-W1HPIZ3V6S2DaXh...|       Allen Hui, OD|Optometrists, Hea...|   59|\n",
      "|cKwg6HFaLYXl7Ar0r...|AAA Action Garage...|Garage Door Servi...|   12|\n",
      "|V_maCS_uBRMjqa_BC...| Aroma Waxing Clinic|Day Spas, Beauty ...|   51|\n",
      "|RMjCnixEY5i12Ciqn...|     Four Star Sushi|Restaurants, Sush...|   45|\n",
      "|_Wyo52ijeq3QgcmkI...|Lemongrass Restau...|Restaurants, Thai...|   17|\n",
      "|x1fx7C_tc064cFATj...|The Lodge at Gran...|Restaurants, Bars...|   55|\n",
      "|ATeOjZzE3VOI-RW7F...|        One Red Door|Cocktail Bars, Br...|   93|\n",
      "|aiAYA0SKz-wRDj04g...|    Proficient Clean|Home Services, Pr...|   98|\n",
      "|pK83jG-vw6UykrHkw...|    Poetry Jazz Cafe|Music Venues, Nig...|   38|\n",
      "+--------------------+--------------------+--------------------+-----+\n",
      "\n"
     ]
    }
   ],
   "source": [
    "business_only = yelp_business.select('business_id','name','categories')\n",
    "review_business_name = business_only.join(review_sort,'business_id','inner')\n",
    "Top_ten_reviewed_business = review_business_name.limit(10)\n",
    "Top_ten_reviewed_business.show()"
   ]
  },
  {
   "cell_type": "markdown",
   "metadata": {
    "_uuid": "e73f25871d4c97e005126899e1352e8238318ca6"
   },
   "source": [
    "**Top 10 category which has most business count**"
   ]
  },
  {
   "cell_type": "code",
   "execution_count": 8,
   "metadata": {
    "_uuid": "b19cada5a91a8907015969860166ac57765d9db1",
    "pycharm": {
     "is_executing": true
    }
   },
   "outputs": [
    {
     "name": "stdout",
     "output_type": "stream",
     "text": [
      "+-----------------+-----+\n",
      "|category         |count|\n",
      "+-----------------+-----+\n",
      "| Restaurants     |44488|\n",
      "| Shopping        |26128|\n",
      "| Food            |24452|\n",
      "|Restaurants      |19456|\n",
      "| Home Services   |16205|\n",
      "| Beauty & Spas   |14216|\n",
      "| Health & Medical|13978|\n",
      "| Local Services  |11958|\n",
      "| Nightlife       |11415|\n",
      "| Bars            |10201|\n",
      "+-----------------+-----+\n",
      "only showing top 10 rows\n",
      "\n"
     ]
    }
   ],
   "source": [
    "from pyspark.sql.functions import split,explode\n",
    "category = yelp_business.select('categories')\n",
    "individual_category = category.select(explode(split('categories', ',')).alias('category'))\n",
    "grouped_category = individual_category.groupby('category').count()\n",
    "top_category = grouped_category.sort('count',ascending=False)\n",
    "top_category.show(10,truncate=False)"
   ]
  },
  {
   "cell_type": "markdown",
   "metadata": {
    "_uuid": "1be3a28908b2b19e6619b378615d36d84e2caf2b"
   },
   "source": [
    "**Top Rating give by User to business**"
   ]
  },
  {
   "cell_type": "code",
   "execution_count": 9,
   "metadata": {
    "_uuid": "f587d3a18953a4d7047c52015105752588d99f2a",
    "pycharm": {
     "is_executing": true
    }
   },
   "outputs": [
    {
     "name": "stdout",
     "output_type": "stream",
     "text": [
      "+-----+-----+\n",
      "|stars|count|\n",
      "+-----+-----+\n",
      "|4.0  |39199|\n",
      "|3.5  |38079|\n",
      "|4.5  |29940|\n",
      "|3.0  |28634|\n",
      "|5.0  |27080|\n",
      "|2.5  |21435|\n",
      "|2.0  |13124|\n",
      "|1.5  |6004 |\n",
      "|1.0  |5898 |\n",
      "+-----+-----+\n",
      "\n"
     ]
    }
   ],
   "source": [
    "rating = yelp_business.select('stars')\n",
    "group_rating = rating.groupby('stars').count()\n",
    "rating_top = group_rating.sort('count',ascending=False)\n",
    "rating_top.show(truncate=False)"
   ]
  },
  {
   "cell_type": "markdown",
   "metadata": {
    "_uuid": "208989b97aeeadeba307ad4e04591f948262756e"
   },
   "source": [
    "**Top Locations who have number of business more in world**"
   ]
  },
  {
   "cell_type": "code",
   "execution_count": 10,
   "metadata": {
    "_uuid": "9cc984f7d47698ca3f2f755b57891384f4c3902a",
    "pycharm": {
     "is_executing": true
    }
   },
   "outputs": [
    {
     "name": "stdout",
     "output_type": "stream",
     "text": [
      "+----------+----------+\n",
      "|      city|sum(count)|\n",
      "+----------+----------+\n",
      "| Las Vegas|   2444801|\n",
      "|   Phoenix|    876619|\n",
      "|   Toronto|    600584|\n",
      "|Scottsdale|    457563|\n",
      "| Charlotte|    384775|\n",
      "| Henderson|    273735|\n",
      "|Pittsburgh|    270862|\n",
      "|     Tempe|    238195|\n",
      "|      Mesa|    205643|\n",
      "|  Chandler|    191648|\n",
      "+----------+----------+\n",
      "only showing top 10 rows\n",
      "\n"
     ]
    }
   ],
   "source": [
    "locations = yelp_business.select('business_id','city')\n",
    "review_city = yelp_review.select('business_id')\n",
    "merge_city = locations.join(review_city,'business_id','inner')\n",
    "grouped_review_city = merge_city.groupby('city').count()\n",
    "most_reviewed_city = grouped_review_city.groupby('city').sum()\n",
    "most_reviewed_city.sort('sum(count)',ascending=False).show(10)"
   ]
  },
  {
   "cell_type": "code",
   "execution_count": null,
   "metadata": {
    "_uuid": "4b195e542233de181fe2c493bfbf6b74864f435a",
    "pycharm": {
     "is_executing": true
    }
   },
   "outputs": [],
   "source": []
  }
 ],
 "metadata": {
  "kernelspec": {
   "display_name": "Python 3",
   "language": "python",
   "name": "python3"
  },
  "language_info": {
   "codemirror_mode": {
    "name": "ipython",
    "version": 3
   },
   "file_extension": ".py",
   "mimetype": "text/x-python",
   "name": "python",
   "nbconvert_exporter": "python",
   "pygments_lexer": "ipython3",
   "version": "3.7.4"
  },
  "pycharm": {
   "stem_cell": {
    "cell_type": "raw",
    "metadata": {
     "collapsed": false
    },
    "source": []
   }
  }
 },
 "nbformat": 4,
 "nbformat_minor": 1
}
